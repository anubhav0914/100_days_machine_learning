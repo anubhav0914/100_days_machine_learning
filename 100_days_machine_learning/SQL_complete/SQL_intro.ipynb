{
 "cells": [
  {
   "cell_type": "markdown",
   "id": "c2d866c1-07dc-4714-a930-f604b29b449d",
   "metadata": {},
   "source": [
    "## SQL "
   ]
  },
  {
   "cell_type": "code",
   "execution_count": null,
   "id": "fb3743be-e9c2-4d98-800c-fccddff878eb",
   "metadata": {},
   "outputs": [],
   "source": []
  },
  {
   "cell_type": "code",
   "execution_count": null,
   "id": "0d658401-3165-4eb6-b85e-85aad0af47cd",
   "metadata": {},
   "outputs": [],
   "source": []
  },
  {
   "cell_type": "code",
   "execution_count": null,
   "id": "3ee85b96-88a3-4660-9050-49f2d6fae698",
   "metadata": {},
   "outputs": [],
   "source": []
  },
  {
   "cell_type": "code",
   "execution_count": null,
   "id": "20b6397f-e1d9-4264-8469-4df5f2ef4900",
   "metadata": {},
   "outputs": [],
   "source": []
  }
 ],
 "metadata": {
  "kernelspec": {
   "display_name": "Python 3 (ipykernel)",
   "language": "python",
   "name": "python3"
  },
  "language_info": {
   "codemirror_mode": {
    "name": "ipython",
    "version": 3
   },
   "file_extension": ".py",
   "mimetype": "text/x-python",
   "name": "python",
   "nbconvert_exporter": "python",
   "pygments_lexer": "ipython3",
   "version": "3.10.12"
  }
 },
 "nbformat": 4,
 "nbformat_minor": 5
}
