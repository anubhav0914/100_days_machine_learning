{
 "cells": [
  {
   "cell_type": "code",
   "execution_count": 3,
   "id": "4aeb5788-64b2-49c0-b1b4-f061f8f22e9b",
   "metadata": {},
   "outputs": [
    {
     "ename": "ImportError",
     "evalue": "cannot import name 'Kmeans' from 'kmean' (/home/anubhav/100_days_machine_learning/kmean_scratch/kmean.py)",
     "output_type": "error",
     "traceback": [
      "\u001b[0;31m---------------------------------------------------------------------------\u001b[0m",
      "\u001b[0;31mImportError\u001b[0m                               Traceback (most recent call last)",
      "Cell \u001b[0;32mIn[3], line 3\u001b[0m\n\u001b[1;32m      1\u001b[0m \u001b[38;5;28;01mfrom\u001b[39;00m \u001b[38;5;21;01msklearn\u001b[39;00m\u001b[38;5;21;01m.\u001b[39;00m\u001b[38;5;21;01mdatasets\u001b[39;00m \u001b[38;5;28;01mimport\u001b[39;00m make_blobs\n\u001b[1;32m      2\u001b[0m \u001b[38;5;28;01mimport\u001b[39;00m \u001b[38;5;21;01mmatplotlib\u001b[39;00m\u001b[38;5;21;01m.\u001b[39;00m\u001b[38;5;21;01mpyplot\u001b[39;00m \u001b[38;5;28;01mas\u001b[39;00m \u001b[38;5;21;01mplt\u001b[39;00m\n\u001b[0;32m----> 3\u001b[0m \u001b[38;5;28;01mfrom\u001b[39;00m \u001b[38;5;21;01mkmean\u001b[39;00m \u001b[38;5;28;01mimport\u001b[39;00m Kmeans\n\u001b[1;32m      4\u001b[0m \u001b[38;5;28;01mimport\u001b[39;00m \u001b[38;5;21;01mpandas\u001b[39;00m \u001b[38;5;28;01mas\u001b[39;00m \u001b[38;5;21;01mpd\u001b[39;00m\n\u001b[1;32m      6\u001b[0m centroids \u001b[38;5;241m=\u001b[39m [(\u001b[38;5;241m-\u001b[39m\u001b[38;5;241m5\u001b[39m,\u001b[38;5;241m-\u001b[39m\u001b[38;5;241m5\u001b[39m),(\u001b[38;5;241m5\u001b[39m,\u001b[38;5;241m5\u001b[39m),(\u001b[38;5;241m-\u001b[39m\u001b[38;5;241m2.5\u001b[39m,\u001b[38;5;241m2.5\u001b[39m),(\u001b[38;5;241m2.5\u001b[39m,\u001b[38;5;241m-\u001b[39m\u001b[38;5;241m2.5\u001b[39m)]\n",
      "\u001b[0;31mImportError\u001b[0m: cannot import name 'Kmeans' from 'kmean' (/home/anubhav/100_days_machine_learning/kmean_scratch/kmean.py)"
     ]
    }
   ],
   "source": [
    "from sklearn.datasets import make_blobs\n",
    "import matplotlib.pyplot as plt\n",
    "from kmean import Kmeans\n",
    "import pandas as pd\n",
    "\n",
    "centroids = [(-5,-5),(5,5),(-2.5,2.5),(2.5,-2.5)]\n",
    "cluster_std = [1,1,1,1]\n",
    "\n",
    "X,y = make_blobs(n_samples=100,cluster_std=cluster_std,centers=centroids,n_features=2,random_state=2)\n",
    "\n",
    "# plt.scatter(X[:,0],X[:,1])\n",
    "\n",
    "# df = pd.read_csv('student_clustering.csv')\n",
    "\n",
    "# X = df.iloc[:,:].values\n",
    "\n",
    "km = Kmeans(n_clusters=3,max_iteration=500)\n",
    "y_means = km.fit_predict(X)\n",
    "\n",
    "plt.scatter(X[y_means == 0,0],X[y_means == 0,1],color='red')\n",
    "plt.scatter(X[y_means == 1,0],X[y_means == 1,1],color='blue')\n",
    "plt.scatter(X[y_means == 2,0],X[y_means == 2,1],color='green')\n",
    "# plt.scatter(X[y_means == 3,0],X[y_means == 3,1],color='yellow')\n",
    "plt.show()"
   ]
  },
  {
   "cell_type": "code",
   "execution_count": null,
   "id": "bb1e4ee1-2fb0-4571-896a-c86285d01a7a",
   "metadata": {},
   "outputs": [],
   "source": []
  },
  {
   "cell_type": "code",
   "execution_count": null,
   "id": "8ebf95ba-d20d-4084-b8a5-b25072aca11e",
   "metadata": {},
   "outputs": [],
   "source": []
  }
 ],
 "metadata": {
  "kernelspec": {
   "display_name": "Python 3 (ipykernel)",
   "language": "python",
   "name": "python3"
  },
  "language_info": {
   "codemirror_mode": {
    "name": "ipython",
    "version": 3
   },
   "file_extension": ".py",
   "mimetype": "text/x-python",
   "name": "python",
   "nbconvert_exporter": "python",
   "pygments_lexer": "ipython3",
   "version": "3.10.12"
  }
 },
 "nbformat": 4,
 "nbformat_minor": 5
}
