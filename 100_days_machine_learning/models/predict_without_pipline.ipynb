{
 "cells": [
  {
   "cell_type": "code",
   "execution_count": 12,
   "id": "94beeda9-3b65-4746-89fc-e970ea2f55c9",
   "metadata": {},
   "outputs": [],
   "source": [
    "import pickle\n",
    "import numpy as np"
   ]
  },
  {
   "cell_type": "code",
   "execution_count": 13,
   "id": "b6d5921f-5d61-4521-99b3-4197d951cc35",
   "metadata": {},
   "outputs": [],
   "source": [
    "ohe_sex = pickle.load(open('ohe_sex.pkl','rb'))\n",
    "ohe_embarked = pickle.load(open('ohe_embarked.pkl','rb'))\n",
    "clf = pickle.load(open('clf.pkl','rb'))"
   ]
  },
  {
   "cell_type": "code",
   "execution_count": 14,
   "id": "bc4956c9-5b3c-46d8-a44d-356bd148bafb",
   "metadata": {},
   "outputs": [],
   "source": [
    "# Assume user input \n",
    "# pClass /gender/age /SibSp/Prach /fare/Ebmbarked\n",
    "\n",
    "test_input = np.array([2,'male',31.0,0,0,10.5,'S'],dtype = object).reshape(1,7)"
   ]
  },
  {
   "cell_type": "code",
   "execution_count": 15,
   "id": "6575d50d-d32e-44e2-8ae5-4f94e8ddc75d",
   "metadata": {},
   "outputs": [
    {
     "data": {
      "text/plain": [
       "array([[2, 'male', 31.0, 0, 0, 10.5, 'S']], dtype=object)"
      ]
     },
     "execution_count": 15,
     "metadata": {},
     "output_type": "execute_result"
    }
   ],
   "source": [
    "test_input"
   ]
  },
  {
   "cell_type": "code",
   "execution_count": 16,
   "id": "e8af20b5-86a3-4207-8171-d979eb35dbc1",
   "metadata": {},
   "outputs": [
    {
     "name": "stderr",
     "output_type": "stream",
     "text": [
      "/home/anubhav/.local/lib/python3.10/site-packages/sklearn/base.py:493: UserWarning: X does not have valid feature names, but OneHotEncoder was fitted with feature names\n",
      "  warnings.warn(\n"
     ]
    },
    {
     "data": {
      "text/plain": [
       "array([[0., 1.]])"
      ]
     },
     "execution_count": 16,
     "metadata": {},
     "output_type": "execute_result"
    }
   ],
   "source": [
    "test_input_sex = ohe_sex.transform(test_input[:,1].reshape(1,1))\n",
    "test_input_sex"
   ]
  },
  {
   "cell_type": "code",
   "execution_count": 17,
   "id": "36fc9ef9-18ad-42bf-82d7-c40484627a20",
   "metadata": {},
   "outputs": [],
   "source": [
    "test_input_embarked = ohe_embarked.transform(test_input[:,-1].reshape(1,1))\n"
   ]
  },
  {
   "cell_type": "code",
   "execution_count": 18,
   "id": "d62420e0-1027-46ac-ad87-7f6764de80da",
   "metadata": {},
   "outputs": [],
   "source": [
    "test_input_age = test_input[:,2].reshape(1,1)"
   ]
  },
  {
   "cell_type": "code",
   "execution_count": 19,
   "id": "74b3f33c-e38e-4566-85c5-4f71ed60b370",
   "metadata": {},
   "outputs": [
    {
     "data": {
      "text/plain": [
       "array([[0., 0., 1.]])"
      ]
     },
     "execution_count": 19,
     "metadata": {},
     "output_type": "execute_result"
    }
   ],
   "source": [
    "test_input_embarked"
   ]
  },
  {
   "cell_type": "code",
   "execution_count": 20,
   "id": "10ac5646-fa97-461e-8a24-ea5d85c0f681",
   "metadata": {},
   "outputs": [],
   "source": [
    "test_transformed = np.concatenate((test_input[:,[0,3,4,5]],test_input_age,test_input_sex,test_input_embarked),axis=1)"
   ]
  },
  {
   "cell_type": "code",
   "execution_count": 21,
   "id": "813ae251-72ad-454d-9a67-30ae22b66d45",
   "metadata": {},
   "outputs": [
    {
     "data": {
      "text/plain": [
       "(1, 10)"
      ]
     },
     "execution_count": 21,
     "metadata": {},
     "output_type": "execute_result"
    }
   ],
   "source": [
    "test_transformed.shape"
   ]
  },
  {
   "cell_type": "code",
   "execution_count": 22,
   "id": "784fd816-07f9-4e9c-adc0-9e31d4456ce7",
   "metadata": {},
   "outputs": [
    {
     "data": {
      "text/plain": [
       "array([1])"
      ]
     },
     "execution_count": 22,
     "metadata": {},
     "output_type": "execute_result"
    }
   ],
   "source": [
    "clf.predict(test_transformed)"
   ]
  },
  {
   "cell_type": "code",
   "execution_count": null,
   "id": "fa20726b-e1ea-4ba7-a316-6fe59a9f35cc",
   "metadata": {},
   "outputs": [],
   "source": []
  }
 ],
 "metadata": {
  "kernelspec": {
   "display_name": "Python 3 (ipykernel)",
   "language": "python",
   "name": "python3"
  },
  "language_info": {
   "codemirror_mode": {
    "name": "ipython",
    "version": 3
   },
   "file_extension": ".py",
   "mimetype": "text/x-python",
   "name": "python",
   "nbconvert_exporter": "python",
   "pygments_lexer": "ipython3",
   "version": "3.10.12"
  }
 },
 "nbformat": 4,
 "nbformat_minor": 5
}
