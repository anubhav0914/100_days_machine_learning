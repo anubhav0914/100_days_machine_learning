{
 "cells": [
  {
   "cell_type": "markdown",
   "id": "f625a3a2-9125-41e8-8ffe-7874870f5876",
   "metadata": {},
   "source": [
    "### Enemble learning "
   ]
  },
  {
   "cell_type": "markdown",
   "id": "dc8db5b5-e972-4b4c-b8f3-da8cc17613bf",
   "metadata": {},
   "source": [
    "### wisdom of the crowd \n",
    "the crowd konow the answer \n",
    "enseble learning multiple model are collectivly working "
   ]
  },
  {
   "cell_type": "markdown",
   "id": "aa84ce76-7044-4cb9-8f45-1d73ec61f2ec",
   "metadata": {},
   "source": [
    " ### types of ensemble learning \n",
    " * Voting\n",
    " * bagging\n",
    "    * random forest \n",
    " * boosting\n",
    "    * ada boost\n",
    "    * gradient boosting\n",
    "    * xgboost \n",
    " * stacking\n",
    "   "
   ]
  },
  {
   "cell_type": "markdown",
   "id": "116d9162-4adf-4564-a24a-fbc605aceb9a",
   "metadata": {},
   "source": [
    "#### voting \n",
    "* all the models are differnent\n",
    "* and use the query problem for prediction  "
   ]
  },
  {
   "cell_type": "markdown",
   "id": "29c312e5-9de7-4330-a20d-23bb5a169331",
   "metadata": {},
   "source": [
    "#### stacking \n",
    "* it is very similar ti voting but the major difference is that  be use a single model  at the outer most and the we predict the output\n"
   ]
  },
  {
   "cell_type": "markdown",
   "id": "9d7bbd0d-e4e7-46ac-8320-5cef1f658afe",
   "metadata": {},
   "source": [
    "#### bagging (Bootstrap aggression )"
   ]
  },
  {
   "cell_type": "markdown",
   "id": "d4417b5b-39ff-4739-8076-e9011e38c109",
   "metadata": {},
   "source": [
    "##### why ensemble learning works \n"
   ]
  },
  {
   "cell_type": "markdown",
   "id": "1843d023-36ef-4fe2-9119-01654b8d98e4",
   "metadata": {},
   "source": [
    "### key benifits \n",
    "* improvement in performance\n",
    "* bias vairance"
   ]
  },
  {
   "cell_type": "markdown",
   "id": "dd5ae9ac-975c-42bf-a206-205d2ba88d7f",
   "metadata": {},
   "source": [
    "### disadvantages "
   ]
  },
  {
   "cell_type": "code",
   "execution_count": null,
   "id": "e4d535f8-396a-4588-8990-2bc4d24efa3e",
   "metadata": {},
   "outputs": [],
   "source": []
  },
  {
   "cell_type": "code",
   "execution_count": null,
   "id": "ed865bc2-53ae-4754-8cde-84f9fc3035fa",
   "metadata": {},
   "outputs": [],
   "source": []
  },
  {
   "cell_type": "code",
   "execution_count": null,
   "id": "4ae729de-752d-4696-a653-5152b730bcf3",
   "metadata": {},
   "outputs": [],
   "source": []
  },
  {
   "cell_type": "code",
   "execution_count": null,
   "id": "d315d886-93c5-4121-85c0-b0d8d10e9d7d",
   "metadata": {},
   "outputs": [],
   "source": []
  },
  {
   "cell_type": "code",
   "execution_count": null,
   "id": "0450723a-252f-4057-8e6a-ec12edc406f9",
   "metadata": {},
   "outputs": [],
   "source": []
  }
 ],
 "metadata": {
  "kernelspec": {
   "display_name": "Python 3 (ipykernel)",
   "language": "python",
   "name": "python3"
  },
  "language_info": {
   "codemirror_mode": {
    "name": "ipython",
    "version": 3
   },
   "file_extension": ".py",
   "mimetype": "text/x-python",
   "name": "python",
   "nbconvert_exporter": "python",
   "pygments_lexer": "ipython3",
   "version": "3.10.12"
  }
 },
 "nbformat": 4,
 "nbformat_minor": 5
}
