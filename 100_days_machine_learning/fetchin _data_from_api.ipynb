{
 "cells": [
  {
   "cell_type": "markdown",
   "id": "cf06118f-375e-4e81-b325-37e3f6624f06",
   "metadata": {},
   "source": [
    "## fetch data"
   ]
  },
  {
   "cell_type": "code",
   "execution_count": 1,
   "id": "439ae3ee-5e6a-4a3f-847a-fbc480e985fd",
   "metadata": {},
   "outputs": [],
   "source": [
    "import pandas as pd\n",
    "import requests"
   ]
  },
  {
   "cell_type": "code",
   "execution_count": 3,
   "id": "f2fbac8a-f70a-4f88-a183-b270922574f9",
   "metadata": {},
   "outputs": [],
   "source": [
    "response = requests.get('')"
   ]
  },
  {
   "cell_type": "code",
   "execution_count": null,
   "id": "738c706a-ec7a-4285-be86-afd05df5beb3",
   "metadata": {},
   "outputs": [],
   "source": [
    "df = pd.DataFrame(response.json()['results']).head(2)[['col_name1','col_name2','col_name3']]"
   ]
  },
  {
   "cell_type": "code",
   "execution_count": null,
   "id": "0021d847-e867-405b-9f1f-f51a7e9ddfd7",
   "metadata": {},
   "outputs": [],
   "source": [
    "# run loop for the number of pages in the api \n",
    "for i in range(1,n):\n",
    "    pass"
   ]
  },
  {
   "cell_type": "code",
   "execution_count": null,
   "id": "8e23baeb-a593-4176-892e-d2663423153e",
   "metadata": {},
   "outputs": [],
   "source": [
    "# to save the data as csv "
   ]
  },
  {
   "cell_type": "code",
   "execution_count": null,
   "id": "3b8d510f-480b-4d09-92cb-165fcc31615c",
   "metadata": {},
   "outputs": [],
   "source": []
  }
 ],
 "metadata": {
  "kernelspec": {
   "display_name": "Python 3 (ipykernel)",
   "language": "python",
   "name": "python3"
  },
  "language_info": {
   "codemirror_mode": {
    "name": "ipython",
    "version": 3
   },
   "file_extension": ".py",
   "mimetype": "text/x-python",
   "name": "python",
   "nbconvert_exporter": "python",
   "pygments_lexer": "ipython3",
   "version": "3.10.12"
  }
 },
 "nbformat": 4,
 "nbformat_minor": 5
}
