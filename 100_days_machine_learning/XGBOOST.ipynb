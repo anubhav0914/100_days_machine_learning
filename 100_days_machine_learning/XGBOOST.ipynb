{
 "cells": [
  {
   "cell_type": "markdown",
   "id": "254f7325-a986-4a51-a194-07d0f08d1534",
   "metadata": {},
   "source": [
    "### XGBOOST "
   ]
  },
  {
   "cell_type": "markdown",
   "id": "f033daac-6bc3-40f8-ad58-86e7ecc7f872",
   "metadata": {},
   "source": [
    "### Regression problem \n",
    "* the flow is same as Gradient boosting but the trees used are differnet Decission Tree\n",
    "#### stage of making the tree \n",
    "* calcuate the mean as the first model prediction\n",
    "* find residual 1\n",
    "* ss (similarity score)= (sum of residula )^2 / (no. of residual  +lambda)\n",
    "* calulate the SSroot \n",
    "* split the node  as sort (the feature column and the calculate the mean of each two and split the data )\n",
    "* gain = (SSl + SSr) - SSroot\n",
    "* output of each leaf node  = sum of residual / no. of reisdual + lambdaa"
   ]
  },
  {
   "cell_type": "markdown",
   "id": "f3971bc3-e335-4010-89ec-451e04eb9b00",
   "metadata": {},
   "source": [
    "### Classification problem "
   ]
  },
  {
   "cell_type": "markdown",
   "id": "65cf6b84-85bd-43c3-a45b-4be231b71ad3",
   "metadata": {},
   "source": [
    "* first we use log(odds ) odds = (P/(1-P))  P Probilitiy \n",
    "* p = e^log(odds) /(1+e^(log(odds)))\n",
    "* calculate the psedu resudual (actual - pred1)\n",
    "* calculate the sililarity score\n",
    "* calculate the gain "
   ]
  },
  {
   "cell_type": "code",
   "execution_count": null,
   "id": "c80cc77c-b8df-465b-8bb6-9a6ae5ff38e3",
   "metadata": {},
   "outputs": [],
   "source": []
  },
  {
   "cell_type": "code",
   "execution_count": null,
   "id": "7ba383b9-9042-4504-b5d0-c009ac6e325c",
   "metadata": {},
   "outputs": [],
   "source": []
  },
  {
   "cell_type": "code",
   "execution_count": null,
   "id": "35dcb1e7-25bc-43a7-bd5f-f56da7c7019e",
   "metadata": {},
   "outputs": [],
   "source": []
  }
 ],
 "metadata": {
  "kernelspec": {
   "display_name": "Python 3 (ipykernel)",
   "language": "python",
   "name": "python3"
  },
  "language_info": {
   "codemirror_mode": {
    "name": "ipython",
    "version": 3
   },
   "file_extension": ".py",
   "mimetype": "text/x-python",
   "name": "python",
   "nbconvert_exporter": "python",
   "pygments_lexer": "ipython3",
   "version": "3.10.12"
  }
 },
 "nbformat": 4,
 "nbformat_minor": 5
}
