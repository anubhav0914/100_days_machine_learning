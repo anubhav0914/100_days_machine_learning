{
 "cells": [
  {
   "cell_type": "markdown",
   "id": "9e80aa5a-82bc-4fc3-8d57-cfebf67fef8e",
   "metadata": {},
   "source": [
    "# Gradien decent "
   ]
  },
  {
   "cell_type": "markdown",
   "id": "55545a02-9be6-4e26-a515-d4c9d493d96e",
   "metadata": {},
   "source": [
    "1. batch GD\n",
    "2. SGD\n",
    "3. MBGD\n",
    "   "
   ]
  },
  {
   "cell_type": "code",
   "execution_count": 1,
   "id": "bd251909-5459-494b-bb63-290a69f81ea8",
   "metadata": {},
   "outputs": [],
   "source": [
    "from sklearn.datasets import make_regression \n",
    "import numpy as np\n"
   ]
  },
  {
   "cell_type": "code",
   "execution_count": 2,
   "id": "cd1d1bcf-d772-4515-b9fa-9c4e3f5cd116",
   "metadata": {},
   "outputs": [],
   "source": [
    "X,y = make_regression(n_samples =4, n_features =1 , n_informative = 1 ,n_targets =1 , noise = 80 , random_state = 13)"
   ]
  },
  {
   "cell_type": "code",
   "execution_count": 3,
   "id": "66d33e04-29da-4e0b-b747-72dd9a357d1f",
   "metadata": {},
   "outputs": [
    {
     "data": {
      "text/plain": [
       "<matplotlib.collections.PathCollection at 0x7e2b22b37ca0>"
      ]
     },
     "execution_count": 3,
     "metadata": {},
     "output_type": "execute_result"
    },
    {
     "data": {
      "image/png": "[encoded data removed]",
      "text/plain": [
       "<Figure size 640x480 with 1 Axes>"
      ]
     },
     "metadata": {},
     "output_type": "display_data"
    }
   ],
   "source": [
    "import matplotlib.pyplot as plt\n",
    "plt.scatter(X,y)"
   ]
  },
  {
   "cell_type": "code",
   "execution_count": 4,
   "id": "eb064911-c090-4b48-9d67-364a957af82c",
   "metadata": {},
   "outputs": [],
   "source": [
    "# let apply ols \n",
    "from sklearn.linear_model import LinearRegression "
   ]
  },
  {
   "cell_type": "code",
   "execution_count": 5,
   "id": "d3754ecc-26d8-416d-9123-01347b65ef0d",
   "metadata": {},
   "outputs": [],
   "source": [
    "reg = LinearRegression()"
   ]
  },
  {
   "cell_type": "code",
   "execution_count": 6,
   "id": "cbb6d6a5-4c7c-484e-9e30-8fd125cac37a",
   "metadata": {},
   "outputs": [
    {
     "data": {
      "text/html": [
       "<style>#sk-container-id-1 {\n",
       "  /* Definition of color scheme common for light and dark mode */\n",
       "  --sklearn-color-text: black;\n",
       "  --sklearn-color-line: gray;\n",
       "  /* Definition of color scheme for unfitted estimators */\n",
       "  --sklearn-color-unfitted-level-0: #fff5e6;\n",
       "  --sklearn-color-unfitted-level-1: #f6e4d2;\n",
       "  --sklearn-color-unfitted-level-2: #ffe0b3;\n",
       "  --sklearn-color-unfitted-level-3: chocolate;\n",
       "  /* Definition of color scheme for fitted estimators */\n",
       "  --sklearn-color-fitted-level-0: #f0f8ff;\n",
       "  --sklearn-color-fitted-level-1: #d4ebff;\n",
       "  --sklearn-color-fitted-level-2: #b3dbfd;\n",
       "  --sklearn-color-fitted-level-3: cornflowerblue;\n",
       "\n",
       "  /* Specific color for light theme */\n",
       "  --sklearn-color-text-on-default-background: var(--sg-text-color, var(--theme-code-foreground, var(--jp-content-font-color1, black)));\n",
       "  --sklearn-color-background: var(--sg-background-color, var(--theme-background, var(--jp-layout-color0, white)));\n",
       "  --sklearn-color-border-box: var(--sg-text-color, var(--theme-code-foreground, var(--jp-content-font-color1, black)));\n",
       "  --sklearn-color-icon: #696969;\n",
       "\n",
       "  @media (prefers-color-scheme: dark) {\n",
       "    /* Redefinition of color scheme for dark theme */\n",
       "    --sklearn-color-text-on-default-background: var(--sg-text-color, var(--theme-code-foreground, var(--jp-content-font-color1, white)));\n",
       "    --sklearn-color-background: var(--sg-background-color, var(--theme-background, var(--jp-layout-color0, #111)));\n",
       "    --sklearn-color-border-box: var(--sg-text-color, var(--theme-code-foreground, var(--jp-content-font-color1, white)));\n",
       "    --sklearn-color-icon: #878787;\n",
       "  }\n",
       "}\n",
       "\n",
       "#sk-container-id-1 {\n",
       "  color: var(--sklearn-color-text);\n",
       "}\n",
       "\n",
       "#sk-container-id-1 pre {\n",
       "  padding: 0;\n",
       "}\n",
       "\n",
       "#sk-container-id-1 input.sk-hidden--visually {\n",
       "  border: 0;\n",
       "  clip: rect(1px 1px 1px 1px);\n",
       "  clip: rect(1px, 1px, 1px, 1px);\n",
       "  height: 1px;\n",
       "  margin: -1px;\n",
       "  overflow: hidden;\n",
       "  padding: 0;\n",
       "  position: absolute;\n",
       "  width: 1px;\n",
       "}\n",
       "\n",
       "#sk-container-id-1 div.sk-dashed-wrapped {\n",
       "  border: 1px dashed var(--sklearn-color-line);\n",
       "  margin: 0 0.4em 0.5em 0.4em;\n",
       "  box-sizing: border-box;\n",
       "  padding-bottom: 0.4em;\n",
       "  background-color: var(--sklearn-color-background);\n",
       "}\n",
       "\n",
       "#sk-container-id-1 div.sk-container {\n",
       "  /* jupyter's `normalize.less` sets `[hidden] { display: none; }`\n",
       "     but bootstrap.min.css set `[hidden] { display: none !important; }`\n",
       "     so we also need the `!important` here to be able to override the\n",
       "     default hidden behavior on the sphinx rendered scikit-learn.org.\n",
       "     See: https://github.com/scikit-learn/scikit-learn/issues/21755 */\n",
       "  display: inline-block !important;\n",
       "  position: relative;\n",
       "}\n",
       "\n",
       "#sk-container-id-1 div.sk-text-repr-fallback {\n",
       "  display: none;\n",
       "}\n",
       "\n",
       "div.sk-parallel-item,\n",
       "div.sk-serial,\n",
       "div.sk-item {\n",
       "  /* draw centered vertical line to link estimators */\n",
       "  background-image: linear-gradient(var(--sklearn-color-text-on-default-background), var(--sklearn-color-text-on-default-background));\n",
       "  background-size: 2px 100%;\n",
       "  background-repeat: no-repeat;\n",
       "  background-position: center center;\n",
       "}\n",
       "\n",
       "/* Parallel-specific style estimator block */\n",
       "\n",
       "#sk-container-id-1 div.sk-parallel-item::after {\n",
       "  content: \"\";\n",
       "  width: 100%;\n",
       "  border-bottom: 2px solid var(--sklearn-color-text-on-default-background);\n",
       "  flex-grow: 1;\n",
       "}\n",
       "\n",
       "#sk-container-id-1 div.sk-parallel {\n",
       "  display: flex;\n",
       "  align-items: stretch;\n",
       "  justify-content: center;\n",
       "  background-color: var(--sklearn-color-background);\n",
       "  position: relative;\n",
       "}\n",
       "\n",
       "#sk-container-id-1 div.sk-parallel-item {\n",
       "  display: flex;\n",
       "  flex-direction: column;\n",
       "}\n",
       "\n",
       "#sk-container-id-1 div.sk-parallel-item:first-child::after {\n",
       "  align-self: flex-end;\n",
       "  width: 50%;\n",
       "}\n",
       "\n",
       "#sk-container-id-1 div.sk-parallel-item:last-child::after {\n",
       "  align-self: flex-start;\n",
       "  width: 50%;\n",
       "}\n",
       "\n",
       "#sk-container-id-1 div.sk-parallel-item:only-child::after {\n",
       "  width: 0;\n",
       "}\n",
       "\n",
       "/* Serial-specific style estimator block */\n",
       "\n",
       "#sk-container-id-1 div.sk-serial {\n",
       "  display: flex;\n",
       "  flex-direction: column;\n",
       "  align-items: center;\n",
       "  background-color: var(--sklearn-color-background);\n",
       "  padding-right: 1em;\n",
       "  padding-left: 1em;\n",
       "}\n",
       "\n",
       "\n",
       "/* Toggleable style: style used for estimator/Pipeline/ColumnTransformer box that is\n",
       "clickable and can be expanded/collapsed.\n",
       "- Pipeline and ColumnTransformer use this feature and define the default style\n",
       "- Estimators will overwrite some part of the style using the `sk-estimator` class\n",
       "*/\n",
       "\n",
       "/* Pipeline and ColumnTransformer style (default) */\n",
       "\n",
       "#sk-container-id-1 div.sk-toggleable {\n",
       "  /* Default theme specific background. It is overwritten whether we have a\n",
       "  specific estimator or a Pipeline/ColumnTransformer */\n",
       "  background-color: var(--sklearn-color-background);\n",
       "}\n",
       "\n",
       "/* Toggleable label */\n",
       "#sk-container-id-1 label.sk-toggleable__label {\n",
       "  cursor: pointer;\n",
       "  display: block;\n",
       "  width: 100%;\n",
       "  margin-bottom: 0;\n",
       "  padding: 0.5em;\n",
       "  box-sizing: border-box;\n",
       "  text-align: center;\n",
       "}\n",
       "\n",
       "#sk-container-id-1 label.sk-toggleable__label-arrow:before {\n",
       "  /* Arrow on the left of the label */\n",
       "  content: \"▸\";\n",
       "  float: left;\n",
       "  margin-right: 0.25em;\n",
       "  color: var(--sklearn-color-icon);\n",
       "}\n",
       "\n",
       "#sk-container-id-1 label.sk-toggleable__label-arrow:hover:before {\n",
       "  color: var(--sklearn-color-text);\n",
       "}\n",
       "\n",
       "/* Toggleable content - dropdown */\n",
       "\n",
       "#sk-container-id-1 div.sk-toggleable__content {\n",
       "  max-height: 0;\n",
       "  max-width: 0;\n",
       "  overflow: hidden;\n",
       "  text-align: left;\n",
       "  /* unfitted */\n",
       "  background-color: var(--sklearn-color-unfitted-level-0);\n",
       "}\n",
       "\n",
       "#sk-container-id-1 div.sk-toggleable__content.fitted {\n",
       "  /* fitted */\n",
       "  background-color: var(--sklearn-color-fitted-level-0);\n",
       "}\n",
       "\n",
       "#sk-container-id-1 div.sk-toggleable__content pre {\n",
       "  margin: 0.2em;\n",
       "  border-radius: 0.25em;\n",
       "  color: var(--sklearn-color-text);\n",
       "  /* unfitted */\n",
       "  background-color: var(--sklearn-color-unfitted-level-0);\n",
       "}\n",
       "\n",
       "#sk-container-id-1 div.sk-toggleable__content.fitted pre {\n",
       "  /* unfitted */\n",
       "  background-color: var(--sklearn-color-fitted-level-0);\n",
       "}\n",
       "\n",
       "#sk-container-id-1 input.sk-toggleable__control:checked~div.sk-toggleable__content {\n",
       "  /* Expand drop-down */\n",
       "  max-height: 200px;\n",
       "  max-width: 100%;\n",
       "  overflow: auto;\n",
       "}\n",
       "\n",
       "#sk-container-id-1 input.sk-toggleable__control:checked~label.sk-toggleable__label-arrow:before {\n",
       "  content: \"▾\";\n",
       "}\n",
       "\n",
       "/* Pipeline/ColumnTransformer-specific style */\n",
       "\n",
       "#sk-container-id-1 div.sk-label input.sk-toggleable__control:checked~label.sk-toggleable__label {\n",
       "  color: var(--sklearn-color-text);\n",
       "  background-color: var(--sklearn-color-unfitted-level-2);\n",
       "}\n",
       "\n",
       "#sk-container-id-1 div.sk-label.fitted input.sk-toggleable__control:checked~label.sk-toggleable__label {\n",
       "  background-color: var(--sklearn-color-fitted-level-2);\n",
       "}\n",
       "\n",
       "/* Estimator-specific style */\n",
       "\n",
       "/* Colorize estimator box */\n",
       "#sk-container-id-1 div.sk-estimator input.sk-toggleable__control:checked~label.sk-toggleable__label {\n",
       "  /* unfitted */\n",
       "  background-color: var(--sklearn-color-unfitted-level-2);\n",
       "}\n",
       "\n",
       "#sk-container-id-1 div.sk-estimator.fitted input.sk-toggleable__control:checked~label.sk-toggleable__label {\n",
       "  /* fitted */\n",
       "  background-color: var(--sklearn-color-fitted-level-2);\n",
       "}\n",
       "\n",
       "#sk-container-id-1 div.sk-label label.sk-toggleable__label,\n",
       "#sk-container-id-1 div.sk-label label {\n",
       "  /* The background is the default theme color */\n",
       "  color: var(--sklearn-color-text-on-default-background);\n",
       "}\n",
       "\n",
       "/* On hover, darken the color of the background */\n",
       "#sk-container-id-1 div.sk-label:hover label.sk-toggleable__label {\n",
       "  color: var(--sklearn-color-text);\n",
       "  background-color: var(--sklearn-color-unfitted-level-2);\n",
       "}\n",
       "\n",
       "/* Label box, darken color on hover, fitted */\n",
       "#sk-container-id-1 div.sk-label.fitted:hover label.sk-toggleable__label.fitted {\n",
       "  color: var(--sklearn-color-text);\n",
       "  background-color: var(--sklearn-color-fitted-level-2);\n",
       "}\n",
       "\n",
       "/* Estimator label */\n",
       "\n",
       "#sk-container-id-1 div.sk-label label {\n",
       "  font-family: monospace;\n",
       "  font-weight: bold;\n",
       "  display: inline-block;\n",
       "  line-height: 1.2em;\n",
       "}\n",
       "\n",
       "#sk-container-id-1 div.sk-label-container {\n",
       "  text-align: center;\n",
       "}\n",
       "\n",
       "/* Estimator-specific */\n",
       "#sk-container-id-1 div.sk-estimator {\n",
       "  font-family: monospace;\n",
       "  border: 1px dotted var(--sklearn-color-border-box);\n",
       "  border-radius: 0.25em;\n",
       "  box-sizing: border-box;\n",
       "  margin-bottom: 0.5em;\n",
       "  /* unfitted */\n",
       "  background-color: var(--sklearn-color-unfitted-level-0);\n",
       "}\n",
       "\n",
       "#sk-container-id-1 div.sk-estimator.fitted {\n",
       "  /* fitted */\n",
       "  background-color: var(--sklearn-color-fitted-level-0);\n",
       "}\n",
       "\n",
       "/* on hover */\n",
       "#sk-container-id-1 div.sk-estimator:hover {\n",
       "  /* unfitted */\n",
       "  background-color: var(--sklearn-color-unfitted-level-2);\n",
       "}\n",
       "\n",
       "#sk-container-id-1 div.sk-estimator.fitted:hover {\n",
       "  /* fitted */\n",
       "  background-color: var(--sklearn-color-fitted-level-2);\n",
       "}\n",
       "\n",
       "/* Specification for estimator info (e.g. \"i\" and \"?\") */\n",
       "\n",
       "/* Common style for \"i\" and \"?\" */\n",
       "\n",
       ".sk-estimator-doc-link,\n",
       "a:link.sk-estimator-doc-link,\n",
       "a:visited.sk-estimator-doc-link {\n",
       "  float: right;\n",
       "  font-size: smaller;\n",
       "  line-height: 1em;\n",
       "  font-family: monospace;\n",
       "  background-color: var(--sklearn-color-background);\n",
       "  border-radius: 1em;\n",
       "  height: 1em;\n",
       "  width: 1em;\n",
       "  text-decoration: none !important;\n",
       "  margin-left: 1ex;\n",
       "  /* unfitted */\n",
       "  border: var(--sklearn-color-unfitted-level-1) 1pt solid;\n",
       "  color: var(--sklearn-color-unfitted-level-1);\n",
       "}\n",
       "\n",
       ".sk-estimator-doc-link.fitted,\n",
       "a:link.sk-estimator-doc-link.fitted,\n",
       "a:visited.sk-estimator-doc-link.fitted {\n",
       "  /* fitted */\n",
       "  border: var(--sklearn-color-fitted-level-1) 1pt solid;\n",
       "  color: var(--sklearn-color-fitted-level-1);\n",
       "}\n",
       "\n",
       "/* On hover */\n",
       "div.sk-estimator:hover .sk-estimator-doc-link:hover,\n",
       ".sk-estimator-doc-link:hover,\n",
       "div.sk-label-container:hover .sk-estimator-doc-link:hover,\n",
       ".sk-estimator-doc-link:hover {\n",
       "  /* unfitted */\n",
       "  background-color: var(--sklearn-color-unfitted-level-3);\n",
       "  color: var(--sklearn-color-background);\n",
       "  text-decoration: none;\n",
       "}\n",
       "\n",
       "div.sk-estimator.fitted:hover .sk-estimator-doc-link.fitted:hover,\n",
       ".sk-estimator-doc-link.fitted:hover,\n",
       "div.sk-label-container:hover .sk-estimator-doc-link.fitted:hover,\n",
       ".sk-estimator-doc-link.fitted:hover {\n",
       "  /* fitted */\n",
       "  background-color: var(--sklearn-color-fitted-level-3);\n",
       "  color: var(--sklearn-color-background);\n",
       "  text-decoration: none;\n",
       "}\n",
       "\n",
       "/* Span, style for the box shown on hovering the info icon */\n",
       ".sk-estimator-doc-link span {\n",
       "  display: none;\n",
       "  z-index: 9999;\n",
       "  position: relative;\n",
       "  font-weight: normal;\n",
       "  right: .2ex;\n",
       "  padding: .5ex;\n",
       "  margin: .5ex;\n",
       "  width: min-content;\n",
       "  min-width: 20ex;\n",
       "  max-width: 50ex;\n",
       "  color: var(--sklearn-color-text);\n",
       "  box-shadow: 2pt 2pt 4pt #999;\n",
       "  /* unfitted */\n",
       "  background: var(--sklearn-color-unfitted-level-0);\n",
       "  border: .5pt solid var(--sklearn-color-unfitted-level-3);\n",
       "}\n",
       "\n",
       ".sk-estimator-doc-link.fitted span {\n",
       "  /* fitted */\n",
       "  background: var(--sklearn-color-fitted-level-0);\n",
       "  border: var(--sklearn-color-fitted-level-3);\n",
       "}\n",
       "\n",
       ".sk-estimator-doc-link:hover span {\n",
       "  display: block;\n",
       "}\n",
       "\n",
       "/* \"?\"-specific style due to the `<a>` HTML tag */\n",
       "\n",
       "#sk-container-id-1 a.estimator_doc_link {\n",
       "  float: right;\n",
       "  font-size: 1rem;\n",
       "  line-height: 1em;\n",
       "  font-family: monospace;\n",
       "  background-color: var(--sklearn-color-background);\n",
       "  border-radius: 1rem;\n",
       "  height: 1rem;\n",
       "  width: 1rem;\n",
       "  text-decoration: none;\n",
       "  /* unfitted */\n",
       "  color: var(--sklearn-color-unfitted-level-1);\n",
       "  border: var(--sklearn-color-unfitted-level-1) 1pt solid;\n",
       "}\n",
       "\n",
       "#sk-container-id-1 a.estimator_doc_link.fitted {\n",
       "  /* fitted */\n",
       "  border: var(--sklearn-color-fitted-level-1) 1pt solid;\n",
       "  color: var(--sklearn-color-fitted-level-1);\n",
       "}\n",
       "\n",
       "/* On hover */\n",
       "#sk-container-id-1 a.estimator_doc_link:hover {\n",
       "  /* unfitted */\n",
       "  background-color: var(--sklearn-color-unfitted-level-3);\n",
       "  color: var(--sklearn-color-background);\n",
       "  text-decoration: none;\n",
       "}\n",
       "\n",
       "#sk-container-id-1 a.estimator_doc_link.fitted:hover {\n",
       "  /* fitted */\n",
       "  background-color: var(--sklearn-color-fitted-level-3);\n",
       "}\n",
       "</style><div id=\"sk-container-id-1\" class=\"sk-top-container\"><div class=\"sk-text-repr-fallback\"><pre>LinearRegression()</pre><b>In a Jupyter environment, please rerun this cell to show the HTML representation or trust the notebook. <br />On GitHub, the HTML representation is unable to render, please try loading this page with nbviewer.org.</b></div><div class=\"sk-container\" hidden><div class=\"sk-item\"><div class=\"sk-estimator fitted sk-toggleable\"><input class=\"sk-toggleable__control sk-hidden--visually\" id=\"sk-estimator-id-1\" type=\"checkbox\" checked><label for=\"sk-estimator-id-1\" class=\"sk-toggleable__label fitted sk-toggleable__label-arrow fitted\">&nbsp;&nbsp;LinearRegression<a class=\"sk-estimator-doc-link fitted\" rel=\"noreferrer\" target=\"_blank\" href=\"https://scikit-learn.org/1.4/modules/generated/sklearn.linear_model.LinearRegression.html\">?<span>Documentation for LinearRegression</span></a><span class=\"sk-estimator-doc-link fitted\">i<span>Fitted</span></span></label><div class=\"sk-toggleable__content fitted\"><pre>LinearRegression()</pre></div> </div></div></div></div>"
      ],
      "text/plain": [
       "LinearRegression()"
      ]
     },
     "execution_count": 6,
     "metadata": {},
     "output_type": "execute_result"
    }
   ],
   "source": [
    "reg.fit(X,y)"
   ]
  },
  {
   "cell_type": "code",
   "execution_count": 7,
   "id": "60da3f81-7515-4a3d-9364-594eb709b8bf",
   "metadata": {},
   "outputs": [
    {
     "data": {
      "text/plain": [
       "array([78.35063668])"
      ]
     },
     "execution_count": 7,
     "metadata": {},
     "output_type": "execute_result"
    }
   ],
   "source": [
    "reg.coef_"
   ]
  },
  {
   "cell_type": "code",
   "execution_count": 8,
   "id": "46ed08b3-844e-4887-8581-ac0a7a67ec73",
   "metadata": {},
   "outputs": [
    {
     "data": {
      "text/plain": [
       "26.15963284313262"
      ]
     },
     "execution_count": 8,
     "metadata": {},
     "output_type": "execute_result"
    }
   ],
   "source": [
    "reg.intercept_"
   ]
  },
  {
   "cell_type": "code",
   "execution_count": 9,
   "id": "3e784716-0f19-4e66-816f-e548250e3ffb",
   "metadata": {},
   "outputs": [
    {
     "data": {
      "text/plain": [
       "[<matplotlib.lines.Line2D at 0x7e2b200440d0>]"
      ]
     },
     "execution_count": 9,
     "metadata": {},
     "output_type": "execute_result"
    },
    {
     "data": {
      "image/png": "[encoded data removed]",
      "text/plain": [
       "<Figure size 640x480 with 1 Axes>"
      ]
     },
     "metadata": {},
     "output_type": "display_data"
    }
   ],
   "source": [
    "plt.scatter(X,y)\n",
    "plt.plot(X,reg.predict(X),color='red')"
   ]
  },
  {
   "cell_type": "code",
   "execution_count": 10,
   "id": "8eba275b-218c-4b81-bcd7-0046ad072944",
   "metadata": {},
   "outputs": [],
   "source": [
    "## let apply gradient decent assuming slope is constant  m = 78.35\n",
    "# and let assume the starting value for intercept b = 0\n",
    "\n",
    "y_pred  = ((78.35*X) + 0).reshape(4)"
   ]
  },
  {
   "cell_type": "code",
   "execution_count": 11,
   "id": "15b4aab5-11d3-4cdc-8a71-a4a097b4365e",
   "metadata": {},
   "outputs": [
    {
     "data": {
      "image/png": "[encoded data removed]",
      "text/plain": [
       "<Figure size 640x480 with 1 Axes>"
      ]
     },
     "metadata": {},
     "output_type": "display_data"
    }
   ],
   "source": [
    "plt.scatter(X,y)\n",
    "plt.plot(X,reg.predict(X),color = 'red' , label='OLS')\n",
    "plt.plot(X,y_pred,color = 'green' , label = 'b=0')\n",
    "plt.legend()\n",
    "plt.show()"
   ]
  },
  {
   "cell_type": "code",
   "execution_count": 12,
   "id": "0dc6e0e3-acbc-40a8-b01a-5d6f525ac84c",
   "metadata": {},
   "outputs": [
    {
     "data": {
      "text/plain": [
       "-209.27763408209216"
      ]
     },
     "execution_count": 12,
     "metadata": {},
     "output_type": "execute_result"
    }
   ],
   "source": [
    "m = 78.35\n",
    "b = 0 \n",
    "loss_slope = -2 * np.sum(y - m*X.ravel()-b)\n",
    "loss_slope"
   ]
  },
  {
   "cell_type": "code",
   "execution_count": 13,
   "id": "ce9ebbd5-0718-426c-8bef-44274f0fd0b2",
   "metadata": {},
   "outputs": [
    {
     "data": {
      "text/plain": [
       "-20.927763408209216"
      ]
     },
     "execution_count": 13,
     "metadata": {},
     "output_type": "execute_result"
    }
   ],
   "source": [
    "## lets take leraning rate =0.1\n",
    "lr = 0.1\n",
    "\n",
    "step_size =loss_slope*lr\n",
    "step_size "
   ]
  },
  {
   "cell_type": "code",
   "execution_count": 14,
   "id": "b6a558c3-efbc-4882-b183-9029404df30b",
   "metadata": {},
   "outputs": [
    {
     "data": {
      "text/plain": [
       "20.927763408209216"
      ]
     },
     "execution_count": 14,
     "metadata": {},
     "output_type": "execute_result"
    }
   ],
   "source": [
    "## calculate the new intecept (b)\n",
    "b = b - step_size\n",
    "b"
   ]
  },
  {
   "cell_type": "code",
   "execution_count": 15,
   "id": "c6646c4a-005b-4c53-82ae-48b248496c43",
   "metadata": {},
   "outputs": [],
   "source": [
    "y_pred1 = ((78.35 *X) + b).reshape(4)\n"
   ]
  },
  {
   "cell_type": "code",
   "execution_count": 16,
   "id": "d1a6fd6a-c3ce-4f0b-a0ba-731ebb9dc28c",
   "metadata": {},
   "outputs": [
    {
     "data": {
      "image/png": "[encoded data removed]",
      "text/plain": [
       "<Figure size 640x480 with 1 Axes>"
      ]
     },
     "metadata": {},
     "output_type": "display_data"
    }
   ],
   "source": [
    "plt.scatter(X,y)\n",
    "plt.plot(X,reg.predict(X),color ='red', label = 'OLS')\n",
    "plt.plot(X, y_pred1, color = '#00a65a', label =f'b ={b}')\n",
    "plt.plot(X,y_pred,color = '#A3E4D7' , label = 'b=0')\n",
    "plt.legend()\n",
    "plt.show()"
   ]
  },
  {
   "cell_type": "code",
   "execution_count": 17,
   "id": "55ccefea-beae-4cca-8207-22c2f41745d8",
   "metadata": {},
   "outputs": [
    {
     "data": {
      "text/plain": [
       "-41.85552681641843"
      ]
     },
     "execution_count": 17,
     "metadata": {},
     "output_type": "execute_result"
    }
   ],
   "source": [
    "loss_slope = -2 * np.sum(y - m*X.ravel()-b)\n",
    "loss_slope"
   ]
  },
  {
   "cell_type": "code",
   "execution_count": 18,
   "id": "4ed3927b-3c60-48fb-b023-5818d962dc27",
   "metadata": {},
   "outputs": [
    {
     "data": {
      "text/plain": [
       "-4.185552681641844"
      ]
     },
     "execution_count": 18,
     "metadata": {},
     "output_type": "execute_result"
    }
   ],
   "source": [
    "step_size =loss_slope*lr\n",
    "step_size "
   ]
  },
  {
   "cell_type": "code",
   "execution_count": 19,
   "id": "91be12e1-957e-4524-afdb-c6833232f696",
   "metadata": {},
   "outputs": [
    {
     "data": {
      "text/plain": [
       "25.11331608985106"
      ]
     },
     "execution_count": 19,
     "metadata": {},
     "output_type": "execute_result"
    }
   ],
   "source": [
    "## calculate the new intecept (b)\n",
    "b = b - step_size\n",
    "b"
   ]
  },
  {
   "cell_type": "code",
   "execution_count": 20,
   "id": "5fc30914-fb21-409d-b23a-ef3e3993b03b",
   "metadata": {},
   "outputs": [],
   "source": [
    "y_pred2 = ((78.35 *X) + b).reshape(4)\n"
   ]
  },
  {
   "cell_type": "code",
   "execution_count": 21,
   "id": "f8413059-9cc1-4d92-afec-11d06e582e9b",
   "metadata": {},
   "outputs": [
    {
     "data": {
      "image/png": "[encoded data removed]",
      "text/plain": [
       "<Figure size 640x480 with 1 Axes>"
      ]
     },
     "metadata": {},
     "output_type": "display_data"
    }
   ],
   "source": [
    "plt.scatter(X,y)\n",
    "plt.plot(X,reg.predict(X),color ='red', label = 'OLS')\n",
    "plt.plot(X, y_pred1, color = '#00a65a', label ='b = 20.97')\n",
    "plt.plot(X, y_pred2, color = '#00a48c', label =f'b ={b}')\n",
    "\n",
    "plt.plot(X,y_pred,color = '#A3E4D7' , label = 'b=0')\n",
    "plt.legend()\n",
    "plt.show()"
   ]
  },
  {
   "cell_type": "code",
   "execution_count": null,
   "id": "fe6bd131-b439-441c-a514-9b782dd58ce8",
   "metadata": {},
   "outputs": [],
   "source": []
  },
  {
   "cell_type": "code",
   "execution_count": 22,
   "id": "c2a592fb-e9ac-418f-b1c8-0b3fbdc7c739",
   "metadata": {},
   "outputs": [
    {
     "data": {
      "text/plain": [
       "-8.371105363283675"
      ]
     },
     "execution_count": 22,
     "metadata": {},
     "output_type": "execute_result"
    }
   ],
   "source": [
    "loss_slope = -2 * np.sum(y - m*X.ravel()-b)\n",
    "loss_slope"
   ]
  },
  {
   "cell_type": "code",
   "execution_count": 23,
   "id": "1f2bac59-f3b7-4219-a934-41c65cc944af",
   "metadata": {},
   "outputs": [
    {
     "data": {
      "text/plain": [
       "-0.8371105363283675"
      ]
     },
     "execution_count": 23,
     "metadata": {},
     "output_type": "execute_result"
    }
   ],
   "source": [
    "step_size =loss_slope*lr\n",
    "step_size "
   ]
  },
  {
   "cell_type": "code",
   "execution_count": 24,
   "id": "6e8072e0-a4fe-45da-aa87-520ae802f31c",
   "metadata": {},
   "outputs": [
    {
     "data": {
      "text/plain": [
       "25.95042662617943"
      ]
     },
     "execution_count": 24,
     "metadata": {},
     "output_type": "execute_result"
    }
   ],
   "source": [
    "## calculate the new intecept (b)\n",
    "b = b - step_size\n",
    "b"
   ]
  },
  {
   "cell_type": "code",
   "execution_count": 25,
   "id": "7ed052ad-4b56-487d-99ff-0cc5d1c4f16a",
   "metadata": {},
   "outputs": [],
   "source": [
    "y_pred3 = ((78.35 *X) + b).reshape(4)\n"
   ]
  },
  {
   "cell_type": "code",
   "execution_count": 26,
   "id": "30e0e8e7-e230-4a47-9e67-ac12373511c4",
   "metadata": {},
   "outputs": [
    {
     "data": {
      "image/png": "[encoded data removed]",
      "text/plain": [
       "<Figure size 640x480 with 1 Axes>"
      ]
     },
     "metadata": {},
     "output_type": "display_data"
    }
   ],
   "source": [
    "plt.scatter(X,y)\n",
    "plt.plot(X,reg.predict(X),color ='red', label = 'OLS')\n",
    "plt.plot(X, y_pred1, color = '#00a65a', label ='b = 20.97')\n",
    "plt.plot(X, y_pred2, color = '#00a48c', label ='b = 25.113')\n",
    "plt.plot(X, y_pred3, color = '#00a48c', label =f'b = {b}')\n",
    "\n",
    "plt.plot(X,y_pred,color = '#A3E4D7' , label = 'b=0')\n",
    "plt.legend()\n",
    "plt.show()"
   ]
  },
  {
   "cell_type": "code",
   "execution_count": null,
   "id": "de901b02-a3fe-4339-a769-f31740b6411f",
   "metadata": {},
   "outputs": [],
   "source": []
  },
  {
   "cell_type": "code",
   "execution_count": null,
   "id": "56c9f4a5-e06f-44d1-b938-3dc25a31921e",
   "metadata": {},
   "outputs": [],
   "source": []
  },
  {
   "cell_type": "code",
   "execution_count": 27,
   "id": "ae9f6084-cb6a-40c5-bf91-c383fcea27e9",
   "metadata": {},
   "outputs": [
    {
     "data": {
      "text/plain": [
       "-1.674221072656735"
      ]
     },
     "execution_count": 27,
     "metadata": {},
     "output_type": "execute_result"
    }
   ],
   "source": [
    "loss_slope = -2 * np.sum(y - m*X.ravel()-b)\n",
    "loss_slope"
   ]
  },
  {
   "cell_type": "code",
   "execution_count": 28,
   "id": "069eac18-b02f-44cb-95f3-75dadf4b6f5d",
   "metadata": {},
   "outputs": [
    {
     "data": {
      "text/plain": [
       "-0.16742210726567353"
      ]
     },
     "execution_count": 28,
     "metadata": {},
     "output_type": "execute_result"
    }
   ],
   "source": [
    "step_size =loss_slope*lr\n",
    "step_size "
   ]
  },
  {
   "cell_type": "code",
   "execution_count": 29,
   "id": "9dcf0e99-99fa-4787-8acf-a22035ab0b74",
   "metadata": {},
   "outputs": [
    {
     "data": {
      "text/plain": [
       "26.1178487334451"
      ]
     },
     "execution_count": 29,
     "metadata": {},
     "output_type": "execute_result"
    }
   ],
   "source": [
    "## calculate the new intecept (b)\n",
    "b = b - step_size\n",
    "b"
   ]
  },
  {
   "cell_type": "code",
   "execution_count": 30,
   "id": "486a8cbb-7290-4fa4-a343-3a0946f1d000",
   "metadata": {},
   "outputs": [],
   "source": [
    "y_pred4 = ((78.35 *X) + b).reshape(4)\n"
   ]
  },
  {
   "cell_type": "code",
   "execution_count": 31,
   "id": "fde5adda-fa8a-4a99-931f-3e235b961d52",
   "metadata": {},
   "outputs": [
    {
     "data": {
      "image/png": "[encoded data removed]",
      "text/plain": [
       "<Figure size 640x480 with 1 Axes>"
      ]
     },
     "metadata": {},
     "output_type": "display_data"
    }
   ],
   "source": [
    "plt.scatter(X,y)\n",
    "plt.plot(X,reg.predict(X),color ='red', label = 'OLS')\n",
    "plt.plot(X, y_pred1, color = '#00a65a', label ='b = 20.97')\n",
    "plt.plot(X, y_pred2, color = '#00a48c', label ='b = 25.113')\n",
    "plt.plot(X, y_pred3, color = '#00a48c', label ='b = 25.95')\n",
    "plt.plot(X, y_pred4, color = 'black', label =f'b = {b}')\n",
    "\n",
    "plt.plot(X,y_pred,color = '#A3E4D7' , label = 'b=0')\n",
    "plt.legend()\n",
    "plt.show()"
   ]
  },
  {
   "cell_type": "code",
   "execution_count": null,
   "id": "15dc4196-85c1-4a26-bedc-c98344b4d2f3",
   "metadata": {},
   "outputs": [],
   "source": []
  },
  {
   "cell_type": "code",
   "execution_count": null,
   "id": "7392925b-04cd-4c1f-bd16-5ae84a563bd7",
   "metadata": {},
   "outputs": [],
   "source": []
  },
  {
   "cell_type": "code",
   "execution_count": 41,
   "id": "cd752aa1-fd3d-4acd-bd34-37039b65bd59",
   "metadata": {},
   "outputs": [],
   "source": [
    "## own class \n",
    "from sklearn.datasets import make_regression \n",
    "import matplotlib.pyplot as plt \n",
    "import numpy as np\n"
   ]
  },
  {
   "cell_type": "code",
   "execution_count": null,
   "id": "46eef6d6-acce-42ea-869c-246faeab1285",
   "metadata": {},
   "outputs": [],
   "source": []
  },
  {
   "cell_type": "code",
   "execution_count": 42,
   "id": "333a0d3f-5a26-4f8f-ab07-53be5d634eb0",
   "metadata": {},
   "outputs": [],
   "source": [
    "X,y = make_regression(n_samples =100 , n_features = 1 , n_informative = 1, n_targets = 1 , noise =20)\n"
   ]
  },
  {
   "cell_type": "code",
   "execution_count": 43,
   "id": "bc3361ac-e1e0-44a8-aa75-429c5998e8f9",
   "metadata": {},
   "outputs": [
    {
     "data": {
      "text/plain": [
       "<matplotlib.collections.PathCollection at 0x7e2b1f1a1f60>"
      ]
     },
     "execution_count": 43,
     "metadata": {},
     "output_type": "execute_result"
    },
    {
     "data": {
      "image/png": "[encoded data removed]",
      "text/plain": [
       "<Figure size 640x480 with 1 Axes>"
      ]
     },
     "metadata": {},
     "output_type": "display_data"
    }
   ],
   "source": [
    "plt.scatter(X,y)"
   ]
  },
  {
   "cell_type": "code",
   "execution_count": 60,
   "id": "eff4d415-88c3-4c18-b652-20d4312fd599",
   "metadata": {},
   "outputs": [],
   "source": [
    "from sklearn.linear_model import LinearRegression \n"
   ]
  },
  {
   "cell_type": "code",
   "execution_count": 72,
   "id": "25f26952-e034-44f7-aae2-a2aaaea68fd0",
   "metadata": {},
   "outputs": [
    {
     "data": {
      "text/plain": [
       "array([[ 0.56318334],\n",
       "       [ 1.23889487],\n",
       "       [ 0.98817505],\n",
       "       [-0.10342736],\n",
       "       [-0.23005588]])"
      ]
     },
     "execution_count": 72,
     "metadata": {},
     "output_type": "execute_result"
    }
   ],
   "source": [
    "X[:5]"
   ]
  },
  {
   "cell_type": "code",
   "execution_count": null,
   "id": "0fb42a21-f9cc-46c2-a040-342625fb5936",
   "metadata": {},
   "outputs": [],
   "source": []
  },
  {
   "cell_type": "code",
   "execution_count": 73,
   "id": "a4fb00d5-0a62-4834-a030-5236ddf04dae",
   "metadata": {},
   "outputs": [
    {
     "name": "stdout",
     "output_type": "stream",
     "text": [
      "[67.18218047]\n",
      "-0.41574816790488\n"
     ]
    }
   ],
   "source": [
    "lr = LinearRegression()\n",
    "\n",
    "lr.fit(X,y)\n",
    "print(lr.coef_)\n",
    "print(lr.intercept_)"
   ]
  },
  {
   "cell_type": "code",
   "execution_count": null,
   "id": "434c4eca-5ff5-4e5f-b9a7-ccdd18802213",
   "metadata": {},
   "outputs": [],
   "source": []
  },
  {
   "cell_type": "code",
   "execution_count": null,
   "id": "9617cf51-4fab-44ca-8bfa-0e9cff8b8ef1",
   "metadata": {},
   "outputs": [],
   "source": []
  },
  {
   "cell_type": "code",
   "execution_count": 90,
   "id": "c1d3f4f2-9073-47ce-aa3e-b837948ce58c",
   "metadata": {},
   "outputs": [],
   "source": [
    "class GDRegressor :\n",
    "     def __init__(self,learning_rate ,epochs):\n",
    "         self.m = 67.18\n",
    "         self.b = -60\n",
    "         self.lr = learning_rate\n",
    "         self.epochs =epochs \n",
    "     def fit(self,X,y):\n",
    "         # calculate gradient decent \n",
    "         for i in range(self.epochs):\n",
    "             loss_slope = -2 *np.sum(y - self.m * X.ravel() - self.b)\n",
    "             self.b = self.b - (self.lr * loss_slope)\n",
    "             print(loss_slope)\n",
    "             print(self.b)\n",
    "         print(self.b)\n",
    "\n",
    "         "
   ]
  },
  {
   "cell_type": "code",
   "execution_count": null,
   "id": "08b7bd25-6fce-48c5-80be-7d8a90109e00",
   "metadata": {},
   "outputs": [],
   "source": []
  },
  {
   "cell_type": "code",
   "execution_count": 91,
   "id": "4d975abf-f8d2-45b6-a968-a56c188ee8bf",
   "metadata": {},
   "outputs": [],
   "source": [
    "gd = GDRegressor(0.001,epochs=200)"
   ]
  },
  {
   "cell_type": "code",
   "execution_count": 92,
   "id": "14f34e2e-58c8-4e05-830f-bc000d549ec1",
   "metadata": {},
   "outputs": [
    {
     "name": "stdout",
     "output_type": "stream",
     "text": [
      "-11916.911986974248\n",
      "-48.08308801302575\n",
      "-9533.529589579393\n",
      "-38.549558423446356\n",
      "-7626.8236716635165\n",
      "-30.92273475178284\n",
      "-6101.4589373308145\n",
      "-24.821275814452026\n",
      "-4881.167149864652\n",
      "-19.940108664587374\n",
      "-3904.9337198917206\n",
      "-16.035174944695655\n",
      "-3123.9469759133767\n",
      "-12.911227968782278\n",
      "-2499.1575807307017\n",
      "-10.412070388051577\n",
      "-1999.3260645845614\n",
      "-8.412744323467015\n",
      "-1599.4608516676492\n",
      "-6.813283471799366\n",
      "-1279.568681334119\n",
      "-5.533714790465247\n",
      "-1023.6549450672951\n",
      "-4.510059845397952\n",
      "-818.9239560538363\n",
      "-3.6911358893441153\n",
      "-655.139164843069\n",
      "-3.035996724501046\n",
      "-524.1113318744552\n",
      "-2.511885392626591\n",
      "-419.28906549956423\n",
      "-2.092596327127027\n",
      "-335.4312523996512\n",
      "-1.757165074727376\n",
      "-268.34500191972114\n",
      "-1.4888200728076548\n",
      "-214.676001535777\n",
      "-1.274144071271878\n",
      "-171.7408012286213\n",
      "-1.1024032700432567\n",
      "-137.39264098289712\n",
      "-0.9650106290603595\n",
      "-109.9141127863178\n",
      "-0.8550965162740417\n",
      "-87.9312902290541\n",
      "-0.7671652260449876\n",
      "-70.34503218324346\n",
      "-0.6968201938617441\n",
      "-56.276025746594634\n",
      "-0.6405441681151495\n",
      "-45.020820597275716\n",
      "-0.5955233475178737\n",
      "-36.01665647782066\n",
      "-0.559506691040053\n",
      "-28.813325182256655\n",
      "-0.5306933658577964\n",
      "-23.050660145805104\n",
      "-0.5076427057119912\n",
      "-18.440528116644124\n",
      "-0.48920217759534707\n",
      "-14.752422493315262\n",
      "-0.4744497551020318\n",
      "-11.8019379946521\n",
      "-0.4626478171073797\n",
      "-9.441550395722\n",
      "-0.4532062667116577\n",
      "-7.553240316577536\n",
      "-0.44565302639508014\n",
      "-6.042592253261855\n",
      "-0.4396104341418183\n",
      "-4.834073802609677\n",
      "-0.4347763603392086\n",
      "-3.8672590420875643\n",
      "-0.430909101297121\n",
      "-3.093807233669942\n",
      "-0.4278152940634511\n",
      "-2.4750457869360076\n",
      "-0.42534024827651506\n",
      "-1.9800366295487208\n",
      "-0.42336021164696636\n",
      "-1.5840293036391202\n",
      "-0.42177618234332725\n",
      "-1.2672234429113445\n",
      "-0.4205089589004159\n",
      "-1.0137787543290315\n",
      "-0.4194951801460869\n",
      "-0.8110230034632266\n",
      "-0.41868415714262364\n",
      "-0.6488184027705017\n",
      "-0.41803533873985316\n",
      "-0.5190547222165236\n",
      "-0.41751628401763663\n",
      "-0.4152437777731919\n",
      "-0.41710104023986344\n",
      "-0.3321950222185208\n",
      "-0.4167688452176449\n",
      "-0.26575601777500424\n",
      "-0.4165030891998699\n",
      "-0.21260481421995792\n",
      "-0.4162904843856499\n",
      "-0.1700838513758356\n",
      "-0.41612040053427407\n",
      "-0.1360670811008049\n",
      "-0.41598433345317326\n",
      "-0.10885366488059844\n",
      "-0.41587547978829265\n",
      "-0.08708293190434802\n",
      "-0.4157883968563883\n",
      "-0.06966634552342299\n",
      "-0.4157187305108649\n",
      "-0.05573307641882508\n",
      "-0.41566299743444607\n",
      "-0.04458646113511833\n",
      "-0.4156184109733109\n",
      "-0.03566916890801508\n",
      "-0.4155827418044029\n",
      "-0.028535335126356642\n",
      "-0.41555420646927654\n",
      "-0.022828268101228844\n",
      "-0.4155313782011753\n",
      "-0.01826261448084665\n",
      "-0.41551311558669446\n",
      "-0.014610091584621898\n",
      "-0.41549850549510986\n",
      "-0.011688073267706045\n",
      "-0.4154868174218422\n",
      "-0.009350458614505897\n",
      "-0.4154774669632277\n",
      "-0.007480366891321921\n",
      "-0.4154699865963364\n",
      "-0.0059842935130660635\n",
      "-0.4154640023028233\n",
      "-0.004787434810658908\n",
      "-0.4154592148680127\n",
      "-0.0038299478484731253\n",
      "-0.4154553849201642\n",
      "-0.0030639582787514996\n",
      "-0.41545232096188545\n",
      "-0.0024511666228193008\n",
      "-0.4154498697952626\n",
      "-0.0019609332983065997\n",
      "-0.4154479088619643\n",
      "-0.001568746638731966\n",
      "-0.41544634011532555\n",
      "-0.0012549973109514667\n",
      "-0.4154450851180146\n",
      "-0.001003997848954441\n",
      "-0.4154440811201656\n",
      "-0.0008031982789162839\n",
      "-0.4154432779218867\n",
      "-0.0006425586233262948\n",
      "-0.41544263536326337\n",
      "-0.0005140468985089797\n",
      "-0.4154421213163649\n",
      "-0.0004112375188896067\n",
      "-0.415441710078846\n",
      "-0.00032899001503494674\n",
      "-0.415441381088831\n",
      "-0.00026319201207058995\n",
      "-0.4154411178968189\n",
      "-0.0002105536095839966\n",
      "-0.4154409073432093\n",
      "-0.00016844288779793715\n",
      "-0.4154407389003215\n",
      "-0.00013475431023834972\n",
      "-0.41544060414601125\n",
      "-0.00010780344835836786\n",
      "-0.4154404963425629\n",
      "-8.624275842805673e-05\n",
      "-0.4154404100998045\n",
      "-6.899420686323765e-05\n",
      "-0.41544034110559763\n",
      "-5.519536544085213e-05\n",
      "-0.4154402859102322\n",
      "-4.41562923825245e-05\n",
      "-0.4154402417539398\n",
      "-3.5325034048128146e-05\n",
      "-0.4154402064289057\n",
      "-2.8260026923021542e-05\n",
      "-0.4154401781688788\n",
      "-2.2608021772896336e-05\n",
      "-0.415440155560857\n",
      "-1.8086417412632727e-05\n",
      "-0.4154401374744396\n",
      "-1.4469133930106182e-05\n",
      "-0.41544012300530564\n",
      "-1.157530688544739e-05\n",
      "-0.41544011142999876\n",
      "-9.260245782627408e-06\n",
      "-0.41544010216975297\n",
      "-7.408196559310909e-06\n",
      "-0.4154400947615564\n",
      "-5.9265571579203424e-06\n",
      "-0.4154400888349993\n",
      "-4.741245632544633e-06\n",
      "-0.41544008409375366\n",
      "-3.792996565721296e-06\n",
      "-0.4154400803007571\n",
      "-3.0343971673119086e-06\n",
      "-0.4154400772663599\n",
      "-2.4275179342225783e-06\n",
      "-0.415440074838842\n",
      "-1.9420141441628402e-06\n",
      "-0.41544007289682783\n",
      "-1.5536115895997682e-06\n",
      "-0.41544007134321626\n",
      "-1.242889176467088e-06\n",
      "-0.4154400701003271\n",
      "-9.943112573296276e-07\n",
      "-0.41544006910601583\n",
      "-7.954490470751807e-07\n",
      "-0.4154400683105668\n",
      "-6.363592959246489e-07\n",
      "-0.4154400676742075\n",
      "-5.090873074209412e-07\n",
      "-0.41544006716512016\n",
      "-4.072700789947703e-07\n",
      "-0.41544006675785006\n",
      "-3.258159964047991e-07\n",
      "-0.41544006643203407\n",
      "-2.6065271896413833e-07\n",
      "-0.41544006617138135\n",
      "-2.0852204585253276e-07\n",
      "-0.4154400659628593\n",
      "-1.6681767789350488e-07\n",
      "-0.41544006579604165\n",
      "-1.3345420057930824e-07\n",
      "-0.41544006566258745\n",
      "-1.0676337325321583e-07\n",
      "-0.4154400655558241\n",
      "-8.541056928379476e-08\n",
      "-0.4154400654704135\n",
      "-6.832863874706163e-08\n",
      "-0.4154400654020849\n",
      "-5.4662770310187625e-08\n",
      "-0.4154400653474221\n",
      "-4.3730473464620445e-08\n",
      "-0.41544006530369165\n",
      "-3.498428924331165e-08\n",
      "-0.41544006526870736\n",
      "-2.79873475506065e-08\n",
      "-0.41544006524072\n",
      "-2.2389919251963875e-08\n",
      "-0.4154400652183301\n",
      "-1.7911965244366e-08\n",
      "-0.41544006520041815\n",
      "-1.4329522457501298e-08\n",
      "-0.4154400651860886\n",
      "-1.1463725968496874e-08\n",
      "-0.4154400651746249\n",
      "-9.170697978788667e-09\n",
      "-0.4154400651654542\n",
      "-7.336893759202212e-09\n",
      "-0.41544006515811727\n",
      "-5.869210895070864e-09\n",
      "-0.4154400651522481\n",
      "-4.69545113901404e-09\n",
      "-0.4154400651475526\n",
      "-3.7563054888778424e-09\n",
      "-0.4154400651437963\n",
      "-3.0050699706407613e-09\n",
      "-0.4154400651407912\n",
      "-2.404249244136736e-09\n",
      "-0.41544006513838694\n",
      "-1.9231620740356448e-09\n",
      "-0.41544006513646375\n",
      "-1.5388081919809338e-09\n",
      "-0.41544006513492493\n",
      "-1.2307879160289303e-09\n",
      "-0.41544006513369414\n",
      "-9.848193371908565e-10\n",
      "-0.4154400651327093\n",
      "-7.877716257098655e-10\n",
      "-0.41544006513192155\n",
      "-6.302585120465665e-10\n",
      "-0.4154400651312913\n",
      "-5.043148121330887e-10\n",
      "-0.41544006513078696\n",
      "-4.0336090023629367e-10\n",
      "-0.4154400651303836\n",
      "-3.225366640435823e-10\n",
      "-0.4154400651300611\n",
      "-2.58111754192214e-10\n",
      "-0.41544006512980297\n",
      "-2.063131887553027e-10\n",
      "-0.41544006512959664\n",
      "-1.652153969189385e-10\n",
      "-0.41544006512943144\n",
      "-1.3216805427873624e-10\n",
      "-0.41544006512929926\n",
      "-1.056505993801693e-10\n",
      "-0.4154400651291936\n",
      "-8.456169098280952e-11\n",
      "-0.4154400651291091\n",
      "-6.774314442736795e-11\n",
      "-0.41544006512904136\n",
      "-5.4072302191343624e-11\n",
      "-0.4154400651289873\n",
      "-4.346389914644533e-11\n",
      "-0.4154400651289438\n",
      "-3.459632580415928e-11\n",
      "-0.41544006512890924\n",
      "-2.7718272122001508e-11\n",
      "-0.41544006512888154\n",
      "-2.2211565919860732e-11\n",
      "-0.41544006512885934\n",
      "-1.794120407794253e-11\n",
      "-0.4154400651288414\n",
      "-1.4217960142559605e-11\n",
      "-0.4154400651288272\n",
      "-1.1375789199519204e-11\n",
      "-0.4154400651288158\n",
      "-9.016787316795671e-12\n",
      "-0.4154400651288068\n",
      "-7.119638212316204e-12\n",
      "-0.4154400651287997\n",
      "-5.7553961596568115e-12\n",
      "-0.41544006512879394\n",
      "-4.519051799434237e-12\n",
      "-0.41544006512878945\n",
      "-3.737454790098127e-12\n",
      "-0.41544006512878573\n",
      "-2.9700686354772188e-12\n",
      "-0.41544006512878273\n",
      "-2.6147972675971687e-12\n",
      "-0.4154400651287801\n",
      "-1.8545165403338615e-12\n",
      "-0.4154400651287783\n",
      "-1.4921397450962104e-12\n",
      "-0.4154400651287768\n",
      "-1.3713474800169934e-12\n",
      "-0.4154400651287754\n",
      "-1.0089706847793423e-12\n",
      "-0.4154400651287744\n",
      "-8.881784197001252e-13\n",
      "-0.4154400651287735\n",
      "-4.902744876744691e-13\n",
      "-0.415440065128773\n",
      "-4.902744876744691e-13\n",
      "-0.4154400651287725\n",
      "-2.5579538487363607e-13\n",
      "-0.41544006512877224\n",
      "-2.5579538487363607e-13\n",
      "-0.41544006512877196\n",
      "-1.8474111129762605e-13\n",
      "-0.4154400651287718\n",
      "-1.8474111129762605e-13\n",
      "-0.41544006512877163\n",
      "-1.8474111129762605e-13\n",
      "-0.41544006512877146\n",
      "-1.2789769243681803e-13\n",
      "-0.41544006512877135\n",
      "-1.2789769243681803e-13\n",
      "-0.41544006512877124\n",
      "-1.2789769243681803e-13\n",
      "-0.41544006512877113\n",
      "-1.2789769243681803e-13\n",
      "-0.415440065128771\n",
      "-6.394884621840902e-14\n",
      "-0.41544006512877096\n",
      "-6.394884621840902e-14\n",
      "-0.4154400651287709\n",
      "-6.394884621840902e-14\n",
      "-0.41544006512877085\n",
      "-6.394884621840902e-14\n",
      "-0.4154400651287708\n",
      "-6.394884621840902e-14\n",
      "-0.41544006512877074\n",
      "-6.394884621840902e-14\n",
      "-0.4154400651287707\n",
      "-6.394884621840902e-14\n",
      "-0.41544006512877063\n",
      "-7.105427357601002e-15\n",
      "-0.41544006512877063\n",
      "-7.105427357601002e-15\n",
      "-0.41544006512877063\n",
      "-7.105427357601002e-15\n",
      "-0.41544006512877063\n",
      "-7.105427357601002e-15\n",
      "-0.41544006512877063\n",
      "-7.105427357601002e-15\n",
      "-0.41544006512877063\n",
      "-7.105427357601002e-15\n",
      "-0.41544006512877063\n",
      "-7.105427357601002e-15\n",
      "-0.41544006512877063\n",
      "-7.105427357601002e-15\n",
      "-0.41544006512877063\n",
      "-7.105427357601002e-15\n",
      "-0.41544006512877063\n",
      "-7.105427357601002e-15\n",
      "-0.41544006512877063\n",
      "-7.105427357601002e-15\n",
      "-0.41544006512877063\n",
      "-7.105427357601002e-15\n",
      "-0.41544006512877063\n",
      "-7.105427357601002e-15\n",
      "-0.41544006512877063\n",
      "-7.105427357601002e-15\n",
      "-0.41544006512877063\n",
      "-0.41544006512877063\n"
     ]
    }
   ],
   "source": [
    "gd.fit(X,y)"
   ]
  },
  {
   "cell_type": "code",
   "execution_count": null,
   "id": "2b742aa7-1994-4200-b5ef-12aaa813b2de",
   "metadata": {},
   "outputs": [],
   "source": []
  },
  {
   "cell_type": "markdown",
   "id": "a63a5b89-7da6-4a34-a794-3617326c0b74",
   "metadata": {},
   "source": [
    "## adding m into the mix \n",
    "* also calculate the m\n",
    "* init random values for m and b\n",
    "* m =1\n",
    "* and b=0\n",
    "* epochs =100 ,lr =0.01 ,\n",
    "* m = m - lr*slope"
   ]
  },
  {
   "cell_type": "code",
   "execution_count": null,
   "id": "935cc747-936c-4561-a82a-528d6a634b81",
   "metadata": {},
   "outputs": [],
   "source": []
  },
  {
   "cell_type": "code",
   "execution_count": 103,
   "id": "6f16e680-3194-4cf6-ab89-cbd8c3c54448",
   "metadata": {},
   "outputs": [],
   "source": [
    "## own class \n",
    "from sklearn.datasets import make_regression \n",
    "import matplotlib.pyplot as plt \n",
    "import numpy as np\n",
    "from sklearn.model_selection import cross_val_score"
   ]
  },
  {
   "cell_type": "code",
   "execution_count": null,
   "id": "18405180-cd6c-4b9b-b0bc-1a325f933ae2",
   "metadata": {},
   "outputs": [],
   "source": []
  },
  {
   "cell_type": "code",
   "execution_count": 104,
   "id": "f7cd0ce9-3010-4f54-a6c0-865044a4f6d1",
   "metadata": {},
   "outputs": [],
   "source": [
    "X,y = make_regression(n_samples =100 , n_features = 1 , n_informative = 1, n_targets = 1 , noise =20 , random_state = 42)\n"
   ]
  },
  {
   "cell_type": "code",
   "execution_count": 105,
   "id": "6ce8497f-fcb8-46cd-9b4b-ddb4394879db",
   "metadata": {},
   "outputs": [
    {
     "data": {
      "text/plain": [
       "<matplotlib.collections.PathCollection at 0x7e2b1e270190>"
      ]
     },
     "execution_count": 105,
     "metadata": {},
     "output_type": "execute_result"
    },
    {
     "data": {
      "image/png": "[encoded data removed]",
      "text/plain": [
       "<Figure size 640x480 with 1 Axes>"
      ]
     },
     "metadata": {},
     "output_type": "display_data"
    }
   ],
   "source": [
    "plt.scatter(X,y)"
   ]
  },
  {
   "cell_type": "code",
   "execution_count": 106,
   "id": "fdc0f822-41f5-4c01-850f-44bb2948e9d5",
   "metadata": {},
   "outputs": [
    {
     "name": "stdout",
     "output_type": "stream",
     "text": [
      "[47.13323967]\n",
      "2.3302306410539453\n"
     ]
    }
   ],
   "source": [
    "lr = LinearRegression()\n",
    "\n",
    "lr.fit(X,y)\n",
    "print(lr.coef_)\n",
    "print(lr.intercept_)"
   ]
  },
  {
   "cell_type": "code",
   "execution_count": 146,
   "id": "ae8f5ec6-5350-44fb-b5e6-8b9432140d45",
   "metadata": {},
   "outputs": [
    {
     "data": {
      "text/plain": [
       "0.8016058585014069"
      ]
     },
     "execution_count": 146,
     "metadata": {},
     "output_type": "execute_result"
    }
   ],
   "source": [
    "np.mean(cross_val_score(lr,X,y,scoring='r2',cv = 10))"
   ]
  },
  {
   "cell_type": "code",
   "execution_count": 149,
   "id": "9f420f3a-536f-47e4-b6ab-d3201c649b7a",
   "metadata": {},
   "outputs": [],
   "source": [
    "from sklearn.model_selection import train_test_split\n",
    "X_train,X_test,y_train,y_test = train_test_split(X,y,test_size =0.2 ,random_state =2)"
   ]
  },
  {
   "cell_type": "code",
   "execution_count": 150,
   "id": "8bd3a670-da74-47f5-9ee4-89b78c78bbb9",
   "metadata": {},
   "outputs": [
    {
     "data": {
      "text/plain": [
       "0.8793219376470728"
      ]
     },
     "execution_count": 150,
     "metadata": {},
     "output_type": "execute_result"
    }
   ],
   "source": [
    "y_pred = lr.predict(X_test)\n",
    "from sklearn.metrics import r2_score\n",
    "r2_score(y_test,y_pred)"
   ]
  },
  {
   "cell_type": "code",
   "execution_count": 151,
   "id": "0b7c9a77-29ac-4cac-a934-1cdd25081a9e",
   "metadata": {},
   "outputs": [],
   "source": [
    "class GDRegressor :\n",
    "     def __init__(self,learning_rate ,epochs):\n",
    "         self.m = 100\n",
    "         self.b = -120\n",
    "         self.lr = learning_rate\n",
    "         self.epochs =epochs \n",
    "     def fit(self,X,y):\n",
    "         # calculate gradient decent \n",
    "         for i in range(self.epochs):\n",
    "             loss_slope_b = -2 *np.sum(y - self.m * X.ravel() - self.b)\n",
    "             loss_slope_m = -2 * np.sum((y - self.m * X.ravel() - self.b) * X.ravel())\n",
    "             self.b = self.b - (self.lr * loss_slope_b)\n",
    "             self.m = self.m - (self.lr * loss_slope_m)\n",
    "         print(self.b ,self.m )\n",
    "\n",
    "     def predict(self,X):\n",
    "          return self.m *X - self.b \n",
    "\n",
    "         "
   ]
  },
  {
   "cell_type": "code",
   "execution_count": 177,
   "id": "ee92f3e0-2a73-4533-8b4c-9b48d22fb1fc",
   "metadata": {},
   "outputs": [],
   "source": [
    "gd = GDRegressor(0.0015,epochs=200)"
   ]
  },
  {
   "cell_type": "code",
   "execution_count": 178,
   "id": "811f67e1-bafd-4be4-a027-cba8a352ce3b",
   "metadata": {},
   "outputs": [
    {
     "name": "stdout",
     "output_type": "stream",
     "text": [
      "2.2713664531535636 46.56592693079227\n"
     ]
    }
   ],
   "source": [
    "gd.fit(X_train,y_train)"
   ]
  },
  {
   "cell_type": "code",
   "execution_count": 179,
   "id": "0a61a4ed-578f-4746-b5f4-09adc1b59120",
   "metadata": {},
   "outputs": [
    {
     "data": {
      "text/plain": [
       "0.8681770648356885"
      ]
     },
     "execution_count": 179,
     "metadata": {},
     "output_type": "execute_result"
    }
   ],
   "source": [
    "y_pred = gd.predict(X_test)\n",
    "from sklearn.metrics import r2_score\n",
    "r2_score(y_test,y_pred)"
   ]
  },
  {
   "cell_type": "code",
   "execution_count": null,
   "id": "4a85f0b6-df04-42e6-a637-74f6af21ba4d",
   "metadata": {},
   "outputs": [],
   "source": []
  },
  {
   "cell_type": "markdown",
   "id": "0d241020-5d23-419d-aca7-7a453662ec37",
   "metadata": {},
   "source": [
    "## convex function "
   ]
  },
  {
   "cell_type": "markdown",
   "id": "25e9f5c5-327e-41d9-83d3-2da5e67ad9cc",
   "metadata": {},
   "source": [
    "* it is a function is used  have only one minima \n",
    "* this is a big problem having local minima and global minima\n",
    "* **saddel point** it is the point where the slop is very low (further invetication is required )"
   ]
  },
  {
   "cell_type": "code",
   "execution_count": null,
   "id": "35cd1ea7-f7cc-44dd-b360-9e91a597390d",
   "metadata": {},
   "outputs": [],
   "source": []
  },
  {
   "cell_type": "code",
   "execution_count": null,
   "id": "8b3a4460-b011-44dd-b5a1-631d1b8f0e39",
   "metadata": {},
   "outputs": [],
   "source": []
  },
  {
   "cell_type": "code",
   "execution_count": null,
   "id": "ac2a6622-8602-4b62-86d5-3d9cf32884c3",
   "metadata": {},
   "outputs": [],
   "source": []
  },
  {
   "cell_type": "code",
   "execution_count": null,
   "id": "e419cfd1-0b52-49b8-979b-4153d3570506",
   "metadata": {},
   "outputs": [],
   "source": []
  },
  {
   "cell_type": "code",
   "execution_count": null,
   "id": "d174d193-b069-42ca-82bc-293f3a09ed20",
   "metadata": {},
   "outputs": [],
   "source": []
  },
  {
   "cell_type": "code",
   "execution_count": null,
   "id": "c7d894e8-2608-4ebb-87bd-4568196f6078",
   "metadata": {},
   "outputs": [],
   "source": []
  },
  {
   "cell_type": "code",
   "execution_count": null,
   "id": "f295a97b-fd6a-4216-96c0-7161c3158956",
   "metadata": {},
   "outputs": [],
   "source": []
  },
  {
   "cell_type": "code",
   "execution_count": null,
   "id": "7f1bff43-2af0-4958-b4a8-06ab4a799e05",
   "metadata": {},
   "outputs": [],
   "source": []
  },
  {
   "cell_type": "code",
   "execution_count": null,
   "id": "9de90f5b-6653-4fee-a249-84ed7d6af267",
   "metadata": {},
   "outputs": [],
   "source": []
  },
  {
   "cell_type": "code",
   "execution_count": null,
   "id": "77160ffd-c074-46d9-abe1-9e2d351b8585",
   "metadata": {},
   "outputs": [],
   "source": []
  },
  {
   "cell_type": "code",
   "execution_count": null,
   "id": "973e350a-604c-4bb6-9c66-4e1e235959cd",
   "metadata": {},
   "outputs": [],
   "source": []
  },
  {
   "cell_type": "code",
   "execution_count": null,
   "id": "91c901c3-588e-4f7b-a2be-d230e7f8b45a",
   "metadata": {},
   "outputs": [],
   "source": []
  },
  {
   "cell_type": "code",
   "execution_count": null,
   "id": "a5f8d22e-3713-4ae7-8517-31b79111c276",
   "metadata": {},
   "outputs": [],
   "source": []
  }
 ],
 "metadata": {
  "kernelspec": {
   "display_name": "Python 3 (ipykernel)",
   "language": "python",
   "name": "python3"
  },
  "language_info": {
   "codemirror_mode": {
    "name": "ipython",
    "version": 3
   },
   "file_extension": ".py",
   "mimetype": "text/x-python",
   "name": "python",
   "nbconvert_exporter": "python",
   "pygments_lexer": "ipython3",
   "version": "3.10.12"
  }
 },
 "nbformat": 4,
 "nbformat_minor": 5
}
