{
 "cells": [
  {
   "cell_type": "code",
   "execution_count": 2,
   "id": "b7c4b052-0cc7-41f0-8d73-a7b293f03710",
   "metadata": {},
   "outputs": [
    {
     "name": "stdout",
     "output_type": "stream",
     "text": [
      "hello\n"
     ]
    }
   ],
   "source": [
    "print(\"hello\")\n"
   ]
  },
  {
   "cell_type": "markdown",
   "id": "28247862-39df-4754-9d01-a6923a42db0e",
   "metadata": {},
   "source": [
    "#  importtant note "
   ]
  },
  {
   "cell_type": "markdown",
   "id": "c51c0d87-5f47-4f45-82bb-a99b7d017c83",
   "metadata": {},
   "source": [
    "## sub heading\n"
   ]
  },
  {
   "cell_type": "code",
   "execution_count": null,
   "id": "5932a0c7-3e9a-4914-8752-c9278fcd5a2e",
   "metadata": {},
   "outputs": [],
   "source": []
  }
 ],
 "metadata": {
  "kernelspec": {
   "display_name": "Python 3 (ipykernel)",
   "language": "python",
   "name": "python3"
  },
  "language_info": {
   "codemirror_mode": {
    "name": "ipython",
    "version": 3
   },
   "file_extension": ".py",
   "mimetype": "text/x-python",
   "name": "python",
   "nbconvert_exporter": "python",
   "pygments_lexer": "ipython3",
   "version": "3.10.12"
  }
 },
 "nbformat": 4,
 "nbformat_minor": 5
}
